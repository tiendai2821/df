{
 "cells": [
  {
   "cell_type": "code",
   "execution_count": 1,
   "metadata": {},
   "outputs": [],
   "source": [
    "import numpy as np \n",
    "import pandas as pd \n",
    "import matplotlib.pyplot as plt"
   ]
  },
  {
   "cell_type": "code",
   "execution_count": 2,
   "metadata": {},
   "outputs": [
    {
     "name": "stdout",
     "output_type": "stream",
     "text": [
      "<class 'pandas.core.frame.DataFrame'>\n",
      "RangeIndex: 768 entries, 0 to 767\n",
      "Data columns (total 9 columns):\n",
      " #   Column                    Non-Null Count  Dtype  \n",
      "---  ------                    --------------  -----  \n",
      " 0   Pregnancies               768 non-null    int64  \n",
      " 1   Glucose                   768 non-null    int64  \n",
      " 2   BloodPressure             768 non-null    int64  \n",
      " 3   SkinThickness             768 non-null    int64  \n",
      " 4   Insulin                   768 non-null    int64  \n",
      " 5   BMI                       768 non-null    float64\n",
      " 6   DiabetesPedigreeFunction  768 non-null    float64\n",
      " 7   Age                       768 non-null    int64  \n",
      " 8   Outcome                   768 non-null    int64  \n",
      "dtypes: float64(2), int64(7)\n",
      "memory usage: 54.1 KB\n"
     ]
    }
   ],
   "source": [
    "df = pd.read_csv('diabetes.csv')\n",
    "df.info()"
   ]
  },
  {
   "cell_type": "code",
   "execution_count": 3,
   "metadata": {},
   "outputs": [
    {
     "name": "stdout",
     "output_type": "stream",
     "text": [
      "Nulls \n",
      "====\n",
      "Pregnancies                 0\n",
      "Glucose                     0\n",
      "BloodPressure               0\n",
      "SkinThickness               0\n",
      "Insulin                     0\n",
      "BMI                         0\n",
      "DiabetesPedigreeFunction    0\n",
      "Age                         0\n",
      "Outcome                     0\n",
      "dtype: int64\n",
      "0s\n",
      "==\n",
      "Pregnancies                 111\n",
      "Glucose                       5\n",
      "BloodPressure                35\n",
      "SkinThickness               227\n",
      "Insulin                     374\n",
      "BMI                          11\n",
      "DiabetesPedigreeFunction      0\n",
      "Age                           0\n",
      "Outcome                     500\n",
      "dtype: int64\n"
     ]
    }
   ],
   "source": [
    "print('Nulls \\n====')\n",
    "print(df.isnull().sum())\n",
    "\n",
    "print(\"0s\")\n",
    "print(\"==\")\n",
    "print(df.eq(0).sum())"
   ]
  },
  {
   "cell_type": "code",
   "execution_count": 4,
   "metadata": {},
   "outputs": [
    {
     "name": "stdout",
     "output_type": "stream",
     "text": [
      "Pregnancies                 111\n",
      "Glucose                       0\n",
      "BloodPressure                 0\n",
      "SkinThickness                 0\n",
      "Insulin                       0\n",
      "BMI                           0\n",
      "DiabetesPedigreeFunction      0\n",
      "Age                           0\n",
      "Outcome                     500\n",
      "dtype: int64\n"
     ]
    }
   ],
   "source": [
    "# replace 0 by NaN and fill with mean value\n",
    "df[['Glucose','BloodPressure','SkinThickness','Insulin','BMI','DiabetesPedigreeFunction','Age']] = df[['Glucose','BloodPressure','SkinThickness',\n",
    "'Insulin','BMI','DiabetesPedigreeFunction','Age']].replace(0,np.NaN)\n",
    "df.fillna(df.mean(), inplace = True)\n",
    "print(df.eq(0).sum())"
   ]
  },
  {
   "cell_type": "code",
   "execution_count": 20,
   "metadata": {},
   "outputs": [
    {
     "data": {
      "text/plain": [
       "0"
      ]
     },
     "execution_count": 20,
     "metadata": {},
     "output_type": "execute_result"
    }
   ],
   "source": [
    "df.isnull().sum().sum()"
   ]
  },
  {
   "cell_type": "code",
   "execution_count": 5,
   "metadata": {},
   "outputs": [
    {
     "name": "stdout",
     "output_type": "stream",
     "text": [
      "                          Pregnancies   Glucose  BloodPressure  SkinThickness  \\\n",
      "Pregnancies                  1.000000  0.127911       0.208522       0.082989   \n",
      "Glucose                      0.127911  1.000000       0.218367       0.192991   \n",
      "BloodPressure                0.208522  0.218367       1.000000       0.192816   \n",
      "SkinThickness                0.082989  0.192991       0.192816       1.000000   \n",
      "Insulin                      0.056027  0.420157       0.072517       0.158139   \n",
      "BMI                          0.021565  0.230941       0.281268       0.542398   \n",
      "DiabetesPedigreeFunction    -0.033523  0.137060      -0.002763       0.100966   \n",
      "Age                          0.544341  0.266534       0.324595       0.127872   \n",
      "Outcome                      0.221898  0.492928       0.166074       0.215299   \n",
      "\n",
      "                           Insulin       BMI  DiabetesPedigreeFunction  \\\n",
      "Pregnancies               0.056027  0.021565                 -0.033523   \n",
      "Glucose                   0.420157  0.230941                  0.137060   \n",
      "BloodPressure             0.072517  0.281268                 -0.002763   \n",
      "SkinThickness             0.158139  0.542398                  0.100966   \n",
      "Insulin                   1.000000  0.166586                  0.098634   \n",
      "BMI                       0.166586  1.000000                  0.153400   \n",
      "DiabetesPedigreeFunction  0.098634  0.153400                  1.000000   \n",
      "Age                       0.136734  0.025519                  0.033561   \n",
      "Outcome                   0.214411  0.311924                  0.173844   \n",
      "\n",
      "                               Age   Outcome  \n",
      "Pregnancies               0.544341  0.221898  \n",
      "Glucose                   0.266534  0.492928  \n",
      "BloodPressure             0.324595  0.166074  \n",
      "SkinThickness             0.127872  0.215299  \n",
      "Insulin                   0.136734  0.214411  \n",
      "BMI                       0.025519  0.311924  \n",
      "DiabetesPedigreeFunction  0.033561  0.173844  \n",
      "Age                       1.000000  0.238356  \n",
      "Outcome                   0.238356  1.000000  \n"
     ]
    }
   ],
   "source": [
    "corr = df.corr()\n",
    "print(corr)"
   ]
  },
  {
   "cell_type": "code",
   "execution_count": 6,
   "metadata": {},
   "outputs": [
    {
     "name": "stderr",
     "output_type": "stream",
     "text": [
      "C:\\Users\\Admin\\AppData\\Local\\Temp\\ipykernel_9456\\1655511566.py:8: UserWarning: FixedFormatter should only be used together with FixedLocator\n",
      "  ax.set_yticklabels(df.columns)\n"
     ]
    },
    {
     "data": {
      "image/png": "[encoded data removed]",
      "text/plain": [
       "<Figure size 720x720 with 2 Axes>"
      ]
     },
     "metadata": {
      "needs_background": "light"
     },
     "output_type": "display_data"
    }
   ],
   "source": [
    "fig, ax = plt.subplots(figsize=(10, 10))\n",
    "cax = ax.matshow(corr,cmap='coolwarm', vmin=-1, vmax=1)\n",
    "fig.colorbar(cax)\n",
    "ticks = np.arange(0,len(df.columns),1)\n",
    "ax.set_xticks(ticks)\n",
    "ax.set_xticklabels(df.columns)\n",
    "plt.xticks(rotation = 90)\n",
    "ax.set_yticklabels(df.columns)\n",
    "ax.set_yticks(ticks)\n",
    "#---print the correlation factor---\n",
    "for i in range(df.shape[1]):\n",
    "  for j in range(9):  \n",
    "    text = ax.text(j, i, round(corr.iloc[i][j],2),ha=\"center\", va=\"center\", color=\"w\")\n",
    "plt.show()"
   ]
  },
  {
   "cell_type": "code",
   "execution_count": 7,
   "metadata": {},
   "outputs": [
    {
     "name": "stdout",
     "output_type": "stream",
     "text": [
      "Index(['Outcome', 'Glucose', 'BMI', 'Age'], dtype='object')\n",
      "[1.         0.49292767 0.31192439 0.23835598]\n"
     ]
    }
   ],
   "source": [
    "print(df.corr().nlargest(4, 'Outcome').index) # find 4 features highest correlation\n",
    "print(df.corr().nlargest(4, 'Outcome').values[:,8])\n",
    "\n",
    "# overfitting"
   ]
  },
  {
   "cell_type": "markdown",
   "metadata": {},
   "source": [
    "Evaluating the Algorithms"
   ]
  },
  {
   "cell_type": "markdown",
   "metadata": {},
   "source": [
    "K-fold cross validation: Khi có ít dữ liệu train thay vì dùng train_test_split chia 80/20 (có thể có dữ liệu chỉ có trong val mà k có trong train do bị chia random -> dẫn đến đánh giá k công bằng) khi đó dùng kfold cv"
   ]
  },
  {
   "cell_type": "markdown",
   "metadata": {},
   "source": [
    "Phần dữ liệu training được chia ngẫu nhiên thành k phần (tham số cv thường chọn 5 hoặc 10). Sau đó train model K lần mỗi lần có k-1 phần làm training data và 1 phần làm validation data. Kết quả cuối là trung bình cộng K lần train model"
   ]
  },
  {
   "cell_type": "markdown",
   "metadata": {},
   "source": [
    "Sau khi đánh giá xong có 2 cách tạo ra model cuối: \n",
    "- Cách 1: Trong quá trình train lưu lại model tốt nhất (ưu: không cần train lại, nhược: model không được nhìn toàn bộ data)\n",
    "- Cách 2: train lại model với toàn bộ dữ liệu (không chia thành validation và training data), sau đó save lại và mang đi predict với test data để xem kết quả  "
   ]
  },
  {
   "cell_type": "code",
   "execution_count": 8,
   "metadata": {},
   "outputs": [],
   "source": [
    "# !Note: ngoài ra còn có Stratified K-Fold CV "
   ]
  },
  {
   "cell_type": "markdown",
   "metadata": {},
   "source": [
    "! Ở đây chỉ dùng k-fold cv để đánh giá các thuật toán khác nhau, không lưu lại fold trong quá trình train "
   ]
  },
  {
   "cell_type": "code",
   "execution_count": 9,
   "metadata": {},
   "outputs": [
    {
     "name": "stdout",
     "output_type": "stream",
     "text": [
      "0.7669856459330144\n"
     ]
    }
   ],
   "source": [
    "from sklearn import linear_model\n",
    "from sklearn.model_selection import cross_val_score\n",
    "#---features---\n",
    "X = df[['Glucose','BMI','Age']]\n",
    "#---label---\n",
    "y = df.iloc[:,8]\n",
    "log_regress = linear_model.LogisticRegression()\n",
    "log_regress_score = cross_val_score(log_regress, X, y, cv=10,\n",
    "scoring='accuracy').mean()\n",
    "print(log_regress_score)"
   ]
  },
  {
   "cell_type": "code",
   "execution_count": 10,
   "metadata": {},
   "outputs": [],
   "source": [
    "result = []\n",
    "result.append(log_regress_score)"
   ]
  },
  {
   "cell_type": "code",
   "execution_count": 11,
   "metadata": {},
   "outputs": [
    {
     "name": "stdout",
     "output_type": "stream",
     "text": [
      "The optimal number of neighbors is 19\n",
      "0.7721462747778537\n"
     ]
    }
   ],
   "source": [
    "from sklearn.neighbors import KNeighborsClassifier\n",
    "#---empty list that will hold cv (cross-validates) scores---\n",
    "cv_scores = []\n",
    "\n",
    "#---number of folds---\n",
    "folds = 10\n",
    "#---creating odd list of K for KNN--- (tạo mảng số lẻ cho knn)\n",
    "ks = list(range(1,int(len(X) * ((folds - 1)/folds)), 2))\n",
    "\n",
    "#---perform k-fold cross validation---\n",
    "# Trong các K trong mảng ks, tính k-fold và lưu vào cv_scores, sau đó lấy score lớn nhất và K tương ứng lưu lại vào result để so sánh với thuật toán khác\n",
    "for k in ks:\n",
    "  knn = KNeighborsClassifier(n_neighbors=k)\n",
    "  score = cross_val_score(knn, X, y, cv=folds, scoring='accuracy').mean()\n",
    "  cv_scores.append(score)\n",
    "#---get the maximum score---\n",
    "knn_score = max(cv_scores)\n",
    "#---find the optimal k that gives the highest score---\n",
    "optimal_k = ks[cv_scores.index(knn_score)]\n",
    "print(f\"The optimal number of neighbors is {optimal_k}\")\n",
    "print(knn_score)\n",
    "result.append(knn_score)"
   ]
  },
  {
   "cell_type": "code",
   "execution_count": 12,
   "metadata": {},
   "outputs": [
    {
     "name": "stdout",
     "output_type": "stream",
     "text": [
      "0.7656527682843473\n"
     ]
    }
   ],
   "source": [
    "from sklearn import svm\n",
    "linear_svm = svm.SVC(kernel='linear')\n",
    "linear_svm_score = cross_val_score(linear_svm, X, y,\n",
    "cv=10, scoring='accuracy').mean()\n",
    "print(linear_svm_score)\n",
    "result.append(linear_svm_score)"
   ]
  },
  {
   "cell_type": "code",
   "execution_count": 13,
   "metadata": {},
   "outputs": [
    {
     "name": "stdout",
     "output_type": "stream",
     "text": [
      "0.765704032809296\n"
     ]
    }
   ],
   "source": [
    "rbf = svm.SVC(kernel='rbf')\n",
    "rbf_score = cross_val_score(rbf, X, y, cv=10, scoring='accuracy').mean()\n",
    "print(rbf_score)\n",
    "result.append(rbf_score)"
   ]
  },
  {
   "cell_type": "code",
   "execution_count": 14,
   "metadata": {},
   "outputs": [
    {
     "data": {
      "text/html": [
       "<div>\n",
       "<style scoped>\n",
       "    .dataframe tbody tr th:only-of-type {\n",
       "        vertical-align: middle;\n",
       "    }\n",
       "\n",
       "    .dataframe tbody tr th {\n",
       "        vertical-align: top;\n",
       "    }\n",
       "\n",
       "    .dataframe thead th {\n",
       "        text-align: right;\n",
       "    }\n",
       "</style>\n",
       "<table border=\"1\" class=\"dataframe\">\n",
       "  <thead>\n",
       "    <tr style=\"text-align: right;\">\n",
       "      <th></th>\n",
       "      <th>Accuracy</th>\n",
       "    </tr>\n",
       "  </thead>\n",
       "  <tbody>\n",
       "    <tr>\n",
       "      <th>K Nearest Neighbors</th>\n",
       "      <td>0.772146</td>\n",
       "    </tr>\n",
       "    <tr>\n",
       "      <th>Logistic Regression</th>\n",
       "      <td>0.766986</td>\n",
       "    </tr>\n",
       "    <tr>\n",
       "      <th>SVM RBF Kernel</th>\n",
       "      <td>0.765704</td>\n",
       "    </tr>\n",
       "    <tr>\n",
       "      <th>SVM LinearKernel</th>\n",
       "      <td>0.765653</td>\n",
       "    </tr>\n",
       "  </tbody>\n",
       "</table>\n",
       "</div>"
      ],
      "text/plain": [
       "                     Accuracy\n",
       "K Nearest Neighbors  0.772146\n",
       "Logistic Regression  0.766986\n",
       "SVM RBF Kernel       0.765704\n",
       "SVM LinearKernel     0.765653"
      ]
     },
     "execution_count": 14,
     "metadata": {},
     "output_type": "execute_result"
    }
   ],
   "source": [
    "algorithms = [\"Logistic Regression\", \"K Nearest Neighbors\", \"SVM LinearKernel\", \"SVM RBF Kernel\"]\n",
    "cv_mean = pd.DataFrame(result,index = algorithms, columns=[\"Accuracy\"])\n",
    "cv_mean.sort_values(by=\"Accuracy\",ascending=False)"
   ]
  },
  {
   "cell_type": "code",
   "execution_count": 15,
   "metadata": {},
   "outputs": [
    {
     "data": {
      "text/plain": [
       "KNeighborsClassifier(n_neighbors=19)"
      ]
     },
     "execution_count": 15,
     "metadata": {},
     "output_type": "execute_result"
    }
   ],
   "source": [
    "# Sau khi có được knn là thuật toán tốt nhất, train lại model (cách 2) với toàn bộ data\n",
    "knn = KNeighborsClassifier(n_neighbors=19)\n",
    "knn.fit(X, y)"
   ]
  },
  {
   "cell_type": "code",
   "execution_count": 16,
   "metadata": {},
   "outputs": [],
   "source": [
    "import pickle\n",
    "#---save the model to disk---\n",
    "filename = 'diabetes.sav'\n",
    "#---write to the file using write and binary mode---\n",
    "pickle.dump(knn, open(filename, 'wb'))"
   ]
  },
  {
   "cell_type": "code",
   "execution_count": 17,
   "metadata": {},
   "outputs": [],
   "source": [
    "#---load the model from disk---\n",
    "loaded_model = pickle.load(open(filename, 'rb'))"
   ]
  },
  {
   "cell_type": "code",
   "execution_count": 18,
   "metadata": {},
   "outputs": [
    {
     "name": "stdout",
     "output_type": "stream",
     "text": [
      "[0]\n",
      "Non-diabetic\n"
     ]
    },
    {
     "name": "stderr",
     "output_type": "stream",
     "text": [
      "c:\\Users\\Admin\\anaconda3\\lib\\site-packages\\sklearn\\base.py:450: UserWarning: X does not have valid feature names, but KNeighborsClassifier was fitted with feature names\n",
      "  warnings.warn(\n"
     ]
    }
   ],
   "source": [
    "Glucose = 65\n",
    "BMI = 70\n",
    "Age = 50\n",
    "prediction = loaded_model.predict([[Glucose, BMI, Age]])\n",
    "print(prediction)\n",
    "if (prediction[0]==0):\n",
    "  print(\"Non-diabetic\")\n",
    "else:\n",
    "  print(\"Diabetic\")"
   ]
  },
  {
   "cell_type": "code",
   "execution_count": 19,
   "metadata": {},
   "outputs": [
    {
     "name": "stdout",
     "output_type": "stream",
     "text": [
      "[[0.94736842 0.05263158]]\n",
      "Confidence: 94.74%\n"
     ]
    },
    {
     "name": "stderr",
     "output_type": "stream",
     "text": [
      "c:\\Users\\Admin\\anaconda3\\lib\\site-packages\\sklearn\\base.py:450: UserWarning: X does not have valid feature names, but KNeighborsClassifier was fitted with feature names\n",
      "  warnings.warn(\n"
     ]
    }
   ],
   "source": [
    "proba = loaded_model.predict_proba([[Glucose, BMI, Age]])\n",
    "print(proba)\n",
    "print(\"Confidence: \" + str(round(np.amax(proba[0]) * 100 ,2)) + \"%\")"
   ]
  }
 ],
 "metadata": {
  "kernelspec": {
   "display_name": "Python 3.9.12 ('base')",
   "language": "python",
   "name": "python3"
  },
  "language_info": {
   "codemirror_mode": {
    "name": "ipython",
    "version": 3
   },
   "file_extension": ".py",
   "mimetype": "text/x-python",
   "name": "python",
   "nbconvert_exporter": "python",
   "pygments_lexer": "ipython3",
   "version": "3.9.12"
  },
  "orig_nbformat": 4,
  "vscode": {
   "interpreter": {
    "hash": "2043299c89c8cd0b4d1a6f5cf4529bd58e6a4e0fe3181a25e0d328c821cdc5c5"
   }
  }
 },
 "nbformat": 4,
 "nbformat_minor": 2
}
